{
 "cells": [
  {
   "cell_type": "markdown",
   "metadata": {},
   "source": [
    "This extension serves a narrow use case for writing, compiling, error-checking and validating stan models within jupyter notebook. I am not a comfortable R user and STAN currently leans towards R. I wrote this simple script as I wanted an uninterruped workflow for data manipulation, stan model creation and analysis  all in jupyter notebook. Once the codemirror support is merged in, sysntax highlighting for stan code could also be enabled. Since  few people were asking me for this, I have packaged this as a extension.\n",
    "\n",
    "Tested to work on Linux/Mac. Python versions 2.7/3.6"
   ]
  },
  {
   "cell_type": "markdown",
   "metadata": {},
   "source": [
    "## Installation"
   ]
  },
  {
   "cell_type": "markdown",
   "metadata": {},
   "source": [
    "`pip install git+https://github.com/Arvinds-ds/stanmagic.git`"
   ]
  },
  {
   "cell_type": "markdown",
   "metadata": {},
   "source": [
    "## Testing %%stan magic"
   ]
  },
  {
   "cell_type": "code",
   "execution_count": 1,
   "metadata": {
    "collapsed": true
   },
   "outputs": [],
   "source": [
    "import numpy as np\n",
    "from collections import OrderedDict\n",
    "import pystan"
   ]
  },
  {
   "cell_type": "markdown",
   "metadata": {},
   "source": [
    "### Load stanmagic extension"
   ]
  },
  {
   "cell_type": "code",
   "execution_count": 2,
   "metadata": {
    "collapsed": true
   },
   "outputs": [],
   "source": [
    "%load_ext stanmagic "
   ]
  },
  {
   "cell_type": "markdown",
   "metadata": {},
   "source": [
    "### Ensure stanc compiler is installed\n",
    "\n",
    "To get cmdstan installed:-\n",
    "\n",
    "1. Downlad latest cmdstan-xxxx.tar.gz https://github.com/stan-dev/cmdstan/releases\n",
    "2. extract to <cmdstan_path>\n",
    "3. `cd <cmdstan_path>`\n",
    "4. `make`\n",
    "3. `make build`\n",
    "4. export PATH=$PATH:<cmdstan_path>/bin/stanc\n",
    "\n",
    "\n",
    "If the compiler is not in your path or you don't want to edit your PATH, you may have to pass --stanc [compiler_path] to %%stan. See below"
   ]
  },
  {
   "cell_type": "code",
   "execution_count": 3,
   "metadata": {},
   "outputs": [
    {
     "name": "stdout",
     "output_type": "stream",
     "text": [
      "stanc version 2.16.0\r\n"
     ]
    }
   ],
   "source": [
    "!stanc --version"
   ]
  },
  {
   "cell_type": "markdown",
   "metadata": {},
   "source": [
    "### Generate test data"
   ]
  },
  {
   "cell_type": "code",
   "execution_count": 5,
   "metadata": {
    "collapsed": true
   },
   "outputs": [],
   "source": [
    "X = np.random.randn(100,3)\n",
    "beta = np.array([0.1,0.2,0.3])\n",
    "alpha = 4\n",
    "sigma = 1.7\n",
    "y = np.dot(X,beta) + alpha + np.random.randn(100)*sigma\n",
    "N=100\n",
    "K=3"
   ]
  },
  {
   "cell_type": "code",
   "execution_count": 7,
   "metadata": {
    "collapsed": true
   },
   "outputs": [],
   "source": [
    "data = OrderedDict({'X':X, 'y': y, 'N':N, 'K': K})"
   ]
  },
  {
   "cell_type": "markdown",
   "metadata": {},
   "source": [
    "### 1. %%stan -f [stan_file_name]\n",
    "\n",
    "Saves the cell code to a file specified in [stan_file_name]. The file name can also be accessed in _stan_vars['stan_file'] generated in local namespace"
   ]
  },
  {
   "cell_type": "code",
   "execution_count": 8,
   "metadata": {},
   "outputs": [
    {
     "name": "stdout",
     "output_type": "stream",
     "text": [
      "Using stanc compiler:  /home/aravind/Downloads/cmdstan-2.16.0/bin/stanc\n",
      "/home/aravind/Downloads/cmdstan-2.16.0/bin/stanc --o=/tmp/1c95a9d8-eb04-4ae2-b362-1561a582ddf2.cpp test.stan\n",
      "Model name=test_model\n",
      "Input file=test.stan\n",
      "Output file=/tmp/1c95a9d8-eb04-4ae2-b362-1561a582ddf2.cpp\n"
     ]
    }
   ],
   "source": [
    "%%stan -f test.stan\n",
    "data {\n",
    "  \n",
    "  int<lower=1> N;\n",
    "  int<lower=1> K;\n",
    "  \n",
    "  matrix[N,K] X;\n",
    "  vector[N] y;\n",
    "}\n",
    "\n",
    "parameters{\n",
    "  real alpha;\n",
    "  ordered[K] beta;\n",
    "  real<lower=0> sigma;\n",
    "  \n",
    "}\n",
    "\n",
    "model {\n",
    "  \n",
    "  alpha ~ normal(0,10);\n",
    "  beta[1] ~ normal(.1,.1);\n",
    "  beta[2] ~ normal(.2,.1);\n",
    "  beta[3] ~ normal(.3,.1);\n",
    "  sigma ~ exponential(1);\n",
    "  for (n in 1:N) {\n",
    "    y[n] ~ normal(X[n]*beta + alpha, sigma);\n",
    "  } \n",
    "  \n",
    "}\n",
    "\n",
    "generated quantities {\n",
    "  vector[N] y_rep;\n",
    "  for (n in 1:N) {\n",
    "    y_rep[n] = normal_rng(X[n]*beta + alpha, sigma);\n",
    "  }\n",
    "}"
   ]
  },
  {
   "cell_type": "code",
   "execution_count": 9,
   "metadata": {},
   "outputs": [
    {
     "data": {
      "text/plain": [
       "{'model_name': 'test_model', 'stan_code': None, 'stan_file': 'test.stan'}"
      ]
     },
     "execution_count": 9,
     "metadata": {},
     "output_type": "execute_result"
    }
   ],
   "source": [
    "_stan_vars"
   ]
  },
  {
   "cell_type": "code",
   "execution_count": 10,
   "metadata": {},
   "outputs": [
    {
     "name": "stderr",
     "output_type": "stream",
     "text": [
      "INFO:pystan:COMPILING THE C++ CODE FOR MODEL anon_model_b64da7aba54424736fda036b359c5ae9 NOW.\n"
     ]
    }
   ],
   "source": [
    "model = pystan.StanModel(file=_stan_vars['stan_file'])"
   ]
  },
  {
   "cell_type": "code",
   "execution_count": 11,
   "metadata": {},
   "outputs": [
    {
     "data": {
      "text/plain": [
       "Inference for Stan model: anon_model_b64da7aba54424736fda036b359c5ae9.\n",
       "4 chains, each with iter=2000; warmup=1000; thin=1; \n",
       "post-warmup draws per chain=1000, total post-warmup draws=4000.\n",
       "\n",
       "            mean se_mean     sd   2.5%    25%    50%    75%  97.5%  n_eff   Rhat\n",
       "alpha       3.85  3.0e-3   0.17   3.52   3.74   3.85   3.97   4.18 3324.0    1.0\n",
       "beta[0]     0.08  1.5e-3   0.07  -0.06   0.03   0.09   0.13   0.22 2259.0    1.0\n",
       "beta[1]      0.2  1.0e-3   0.07   0.07   0.15    0.2   0.24   0.32 4000.0    1.0\n",
       "beta[2]     0.31  1.2e-3   0.07   0.17   0.25   0.31   0.36   0.45 4000.0    1.0\n",
       "sigma        1.7  2.6e-3   0.12   1.48   1.62   1.69   1.78   1.95 2250.0    1.0\n",
       "y_rep[0]    4.37    0.03   1.77   0.95   3.17   4.35   5.56   7.84 3813.0    1.0\n",
       "y_rep[1]    3.82    0.03   1.73   0.46   2.68    3.8   4.97   7.26 3995.0    1.0\n",
       "y_rep[2]    4.25    0.03   1.73    0.8   3.09   4.27   5.44   7.58 4000.0    1.0\n",
       "y_rep[3]    3.98    0.03   1.72   0.52   2.87   4.01   5.13   7.34 3175.0    1.0\n",
       "y_rep[4]    3.51    0.03   1.74   0.17   2.33   3.49    4.7   6.91 4000.0    1.0\n",
       "y_rep[5]    4.03    0.03   1.74    0.6   2.88   4.04   5.19   7.42 3857.0    1.0\n",
       "y_rep[6]    3.57    0.03   1.72    0.2   2.39   3.56   4.72   6.88 4000.0    1.0\n",
       "y_rep[7]    3.75    0.03   1.69   0.39   2.64   3.74   4.86   7.03 3659.0    1.0\n",
       "y_rep[8]    3.38    0.03   1.73   0.02    2.2   3.38   4.59   6.84 4000.0    1.0\n",
       "y_rep[9]    4.17    0.03   1.71   0.84    3.0   4.18    5.3   7.55 4000.0    1.0\n",
       "y_rep[10]   4.16    0.03   1.68   0.85   3.01   4.18    5.3   7.43 3861.0    1.0\n",
       "y_rep[11]   3.47    0.03   1.73   0.02    2.3   3.49   4.62   6.85 3575.0    1.0\n",
       "y_rep[12]   3.68    0.03   1.74   0.25   2.51   3.65   4.85   7.13 4000.0    1.0\n",
       "y_rep[13]   2.94    0.03   1.69  -0.35    1.8   2.95   4.09   6.21 3806.0    1.0\n",
       "y_rep[14]    4.3    0.03   1.75   0.81   3.11   4.29   5.47   7.77 3927.0    1.0\n",
       "y_rep[15]   4.45    0.03   1.72   1.12   3.26   4.43   5.62   7.79 3581.0    1.0\n",
       "y_rep[16]   3.23    0.03   1.71  -0.21   2.09   3.23   4.39   6.44 3901.0    1.0\n",
       "y_rep[17]   4.52    0.03   1.71    1.1   3.36   4.52   5.71   7.83 4000.0    1.0\n",
       "y_rep[18]   4.17    0.03   1.74   0.76    3.0   4.17    5.3   7.64 4000.0    1.0\n",
       "y_rep[19]   3.66    0.03   1.72   0.35   2.53   3.67   4.84   6.99 4000.0    1.0\n",
       "y_rep[20]   3.42    0.03   1.72   0.06   2.24    3.4   4.58    6.9 3937.0    1.0\n",
       "y_rep[21]    4.4    0.03   1.73   0.94   3.23    4.4   5.56   7.77 3900.0    1.0\n",
       "y_rep[22]   4.25    0.03   1.72    0.9   3.09   4.21   5.44   7.63 3725.0    1.0\n",
       "y_rep[23]    4.4    0.03   1.72   1.03   3.26   4.42   5.57   7.76 4000.0    1.0\n",
       "y_rep[24]   4.35    0.03   1.71   0.98   3.18   4.34   5.52   7.65 4000.0    1.0\n",
       "y_rep[25]   3.83    0.03   1.75   0.35   2.65   3.85    5.0   7.33 3881.0    1.0\n",
       "y_rep[26]   4.26    0.03   1.74   0.73    3.1   4.27   5.42    7.7 4000.0    1.0\n",
       "y_rep[27]   3.59    0.03   1.73   0.15   2.44   3.58   4.72   7.05 4000.0    1.0\n",
       "y_rep[28]   3.75    0.03   1.71   0.33   2.62   3.76   4.92   6.98 3776.0    1.0\n",
       "y_rep[29]   4.79    0.03   1.71   1.55   3.66   4.75   5.93   8.21 3911.0    1.0\n",
       "y_rep[30]   3.77    0.03   1.73   0.33   2.63   3.77   4.91   7.17 4000.0    1.0\n",
       "y_rep[31]   3.79    0.03   1.71    0.5   2.63   3.77   4.91   7.14 4000.0    1.0\n",
       "y_rep[32]   4.66    0.03   1.74   1.13   3.47    4.7   5.86   8.09 4000.0    1.0\n",
       "y_rep[33]   3.48    0.03   1.75   0.02    2.3   3.44   4.65   6.97 4000.0    1.0\n",
       "y_rep[34]   4.21    0.03   1.73   0.81   3.09   4.22   5.34   7.62 3880.0    1.0\n",
       "y_rep[35]   3.95    0.03   1.72   0.63   2.83   3.94    5.1   7.27 4000.0    1.0\n",
       "y_rep[36]   3.75    0.03   1.72   0.36   2.59   3.74   4.88    7.2 4000.0    1.0\n",
       "y_rep[37]   4.22    0.03   1.73   0.81   3.08   4.24   5.37   7.57 3366.0    1.0\n",
       "y_rep[38]   3.88    0.03   1.71   0.51   2.74    3.9   5.02   7.22 4000.0    1.0\n",
       "y_rep[39]   3.92    0.03   1.73   0.52   2.76    3.9   5.07   7.32 3711.0    1.0\n",
       "y_rep[40]   3.67    0.03   1.71   0.43   2.53   3.65   4.81   7.12 3802.0    1.0\n",
       "y_rep[41]   3.78    0.03   1.72   0.48   2.64   3.81   4.92   7.12 3573.0    1.0\n",
       "y_rep[42]   3.91    0.03    1.7   0.65   2.78   3.88   5.04   7.27 4000.0    1.0\n",
       "y_rep[43]   4.12    0.03   1.72   0.71   2.96    4.1   5.28   7.55 3734.0    1.0\n",
       "y_rep[44]   3.47    0.03   1.71   0.18   2.31   3.44   4.62   6.81 3991.0    1.0\n",
       "y_rep[45]   4.07    0.03   1.72    0.6   2.94   4.06   5.19   7.36 3990.0    1.0\n",
       "y_rep[46]   3.71    0.03   1.71   0.23   2.57   3.74   4.84   7.14 4000.0    1.0\n",
       "y_rep[47]   3.85    0.03   1.69   0.55   2.71   3.83    5.0   7.09 3897.0    1.0\n",
       "y_rep[48]   4.45    0.03   1.72   0.98   3.36   4.45   5.58   7.95 4000.0    1.0\n",
       "y_rep[49]   4.04    0.03   1.73   0.72    2.9   4.04   5.24   7.41 4000.0    1.0\n",
       "y_rep[50]   3.72    0.03   1.74   0.34   2.55   3.74   4.88   7.15 3996.0    1.0\n",
       "y_rep[51]   3.86    0.03   1.73    0.5   2.71   3.82   4.98   7.23 3990.0    1.0\n",
       "y_rep[52]   3.81    0.03   1.73   0.42   2.62   3.78   4.94   7.13 4000.0    1.0\n",
       "y_rep[53]    4.0    0.03   1.71   0.68   2.85   3.99   5.15   7.32 3959.0    1.0\n",
       "y_rep[54]   4.34    0.03   1.76   0.95   3.13   4.32   5.51   7.85 3572.0    1.0\n",
       "y_rep[55]   4.35    0.03   1.72   0.97   3.21   4.35    5.5   7.83 3915.0    1.0\n",
       "y_rep[56]   4.01    0.03   1.75   0.59   2.83   4.01   5.19   7.49 3924.0    1.0\n",
       "y_rep[57]   3.85    0.03   1.73   0.38   2.69   3.89   5.02   7.25 3892.0    1.0\n",
       "y_rep[58]   3.81    0.03   1.71   0.41   2.68   3.81   4.94   7.17 3800.0    1.0\n",
       "y_rep[59]   3.51    0.03    1.7   0.11   2.38   3.55   4.67   6.78 3979.0    1.0\n",
       "y_rep[60]   4.35    0.03   1.71    1.0   3.21   4.35   5.51   7.69 3876.0    1.0\n",
       "y_rep[61]   3.52    0.03   1.71   0.15   2.39   3.52   4.71   6.88 4000.0    1.0\n",
       "y_rep[62]   4.34    0.03   1.71   0.98    3.2   4.33   5.49   7.75 3950.0    1.0\n",
       "y_rep[63]   4.31    0.03   1.73   0.97   3.19   4.33   5.45   7.76 4000.0    1.0\n",
       "y_rep[64]   3.66    0.03   1.72   0.27   2.53   3.68   4.81    7.0 4000.0    1.0\n",
       "y_rep[65]   4.59    0.03   1.73   1.24   3.45   4.56   5.76   7.95 4000.0    1.0\n",
       "y_rep[66]   3.93    0.03    1.7   0.64    2.8   3.92   5.05   7.36 3765.0    1.0\n",
       "y_rep[67]    3.5    0.03   1.73   0.12   2.33   3.49   4.67   6.92 3934.0    1.0\n",
       "y_rep[68]   3.65    0.03   1.72    0.4   2.47   3.65    4.8   7.09 3739.0    1.0\n",
       "y_rep[69]   3.87    0.03   1.73   0.41    2.7   3.86   5.05   7.18 4000.0    1.0\n",
       "y_rep[70]   3.83    0.03    1.7   0.53   2.69   3.82   4.96   7.23 3958.0    1.0\n",
       "y_rep[71]   3.83    0.03   1.72   0.38   2.69   3.84   4.99   7.26 3963.0    1.0\n",
       "y_rep[72]   3.81    0.03   1.71   0.37   2.68   3.82   4.91   7.19 4000.0    1.0\n",
       "y_rep[73]   4.01    0.03   1.74   0.54   2.84   4.01   5.19   7.38 3912.0    1.0\n",
       "y_rep[74]    4.6    0.03   1.72    1.2   3.43   4.64   5.76   7.94 4000.0    1.0\n",
       "y_rep[75]   3.62    0.03   1.74   0.14   2.48   3.64    4.8   6.95 4000.0    1.0\n",
       "y_rep[76]   3.52    0.03   1.78  -0.13   2.34   3.54   4.73   7.01 4000.0    1.0\n",
       "y_rep[77]   4.28    0.03   1.73   0.94    3.1   4.31   5.48   7.61 3985.0    1.0\n",
       "y_rep[78]   3.48    0.03    1.7   0.07   2.32   3.52   4.63   6.84 4000.0    1.0\n",
       "y_rep[79]   3.88    0.03   1.76   0.38   2.71   3.86   5.09   7.32 4000.0    1.0\n",
       "y_rep[80]   3.23    0.03   1.68  -0.11   2.11   3.19   4.36   6.57 4000.0    1.0\n",
       "y_rep[81]   4.02    0.03   1.73   0.69   2.85   4.02   5.17   7.43 4000.0    1.0\n",
       "y_rep[82]   3.91    0.03   1.73   0.47   2.75   3.89   5.07   7.33 4000.0    1.0\n",
       "y_rep[83]   4.13    0.03   1.74   0.67   2.99   4.13   5.29    7.6 4000.0    1.0\n",
       "y_rep[84]   3.71    0.03   1.69   0.33   2.58   3.72   4.86   6.99 3864.0    1.0\n",
       "y_rep[85]   3.33    0.03   1.75  -0.07   2.15   3.29   4.52   6.83 4000.0    1.0\n",
       "y_rep[86]   4.28    0.03   1.69   0.94   3.15   4.28   5.41   7.57 3851.0    1.0\n",
       "y_rep[87]   3.35    0.03   1.74  -0.03   2.16   3.35   4.52   6.75 3805.0    1.0\n",
       "y_rep[88]   3.29    0.03   1.72  -0.03   2.13   3.31   4.43   6.66 3953.0    1.0\n",
       "y_rep[89]   3.61    0.03   1.73   0.31   2.45   3.58   4.75   7.01 3555.0    1.0\n",
       "y_rep[90]   3.87    0.03   1.75   0.46   2.68   3.88   5.07   7.24 4000.0    1.0\n",
       "y_rep[91]   3.69    0.03   1.68   0.42   2.58   3.69   4.81   7.05 3677.0    1.0\n",
       "y_rep[92]   4.23    0.03   1.72   0.83    3.1    4.2   5.35   7.67 3827.0    1.0\n",
       "y_rep[93]   3.42    0.03   1.71   0.08   2.29   3.45   4.54   6.77 4000.0    1.0\n",
       "y_rep[94]   3.17    0.03   1.73  -0.28   2.02    3.2   4.35   6.54 4000.0    1.0\n",
       "y_rep[95]   3.77    0.03   1.73   0.44    2.6   3.79   4.93    7.1 4000.0    1.0\n",
       "y_rep[96]   3.69    0.03    1.7   0.24   2.57    3.7   4.86    7.0 3909.0    1.0\n",
       "y_rep[97]   3.36    0.03   1.72  -0.06   2.22   3.36   4.47   6.79 3956.0    1.0\n",
       "y_rep[98]   4.04    0.03   1.75   0.52   2.88   4.03    5.2   7.52 3731.0    1.0\n",
       "y_rep[99]   3.62    0.03   1.74    0.2   2.46    3.6   4.78    7.0 3753.0    1.0\n",
       "lp__      -110.4    0.05   1.77 -114.7 -111.4 -110.1 -109.1 -108.1 1306.0    1.0\n",
       "\n",
       "Samples were drawn using NUTS at Thu Aug 31 01:28:09 2017.\n",
       "For each parameter, n_eff is a crude measure of effective sample size,\n",
       "and Rhat is the potential scale reduction factor on split chains (at \n",
       "convergence, Rhat=1)."
      ]
     },
     "execution_count": 11,
     "metadata": {},
     "output_type": "execute_result"
    }
   ],
   "source": [
    "model.sampling(data=data)"
   ]
  },
  {
   "cell_type": "markdown",
   "metadata": {},
   "source": [
    "### 2. %%stan -f [stan_file_name] --save_only\n",
    "\n",
    "Saves the cell code to a file specified in [stan_file_name].  Skips compile step"
   ]
  },
  {
   "cell_type": "code",
   "execution_count": 12,
   "metadata": {},
   "outputs": [
    {
     "name": "stdout",
     "output_type": "stream",
     "text": [
      "File test1.stan saved..Skipping Compile\n"
     ]
    }
   ],
   "source": [
    "%%stan -f test1.stan --save_only\n",
    "data {\n",
    "  \n",
    "  int<lower=1> N;\n",
    "  int<lower=1> K;\n",
    "  \n",
    "  matrix[N,K] X;\n",
    "  vector[N] y;\n",
    "}\n",
    "\n",
    "parameters{\n",
    "  real alpha;\n",
    "  ordered[K] beta;\n",
    "  real<lower=0> sigma;\n",
    "  \n",
    "}\n",
    "\n",
    "model {\n",
    "  \n",
    "  alpha ~ normal(0,10);\n",
    "  beta[1] ~ normal(.1,.1);\n",
    "  beta[2] ~ normal(.2,.1);\n",
    "  beta[3] ~ normal(.3,.1);\n",
    "  sigma ~ exponential(1);\n",
    "  for (n in 1:N) {\n",
    "    y[n] ~ normal(X[n]*beta + alpha, sigma);\n",
    "  } \n",
    "  \n",
    "}\n",
    "\n",
    "generated quantities {\n",
    "  vector[N] y_rep;\n",
    "  for (n in 1:N) {\n",
    "    y_rep[n] = normal_rng(X[n]*beta + alpha, sigma);\n",
    "  }\n",
    "}"
   ]
  },
  {
   "cell_type": "code",
   "execution_count": 13,
   "metadata": {},
   "outputs": [
    {
     "name": "stderr",
     "output_type": "stream",
     "text": [
      "INFO:pystan:COMPILING THE C++ CODE FOR MODEL anon_model_b64da7aba54424736fda036b359c5ae9 NOW.\n"
     ]
    }
   ],
   "source": [
    "model = pystan.StanModel(file='test1.stan')"
   ]
  },
  {
   "cell_type": "markdown",
   "metadata": {},
   "source": [
    "### 3. %%stan \n",
    "\n",
    "Saves the cell code to a code string. The code string can be accessed via _stan_vars['stan_code']"
   ]
  },
  {
   "cell_type": "code",
   "execution_count": 14,
   "metadata": {},
   "outputs": [
    {
     "name": "stdout",
     "output_type": "stream",
     "text": [
      "Using stanc compiler:  /home/aravind/Downloads/cmdstan-2.16.0/bin/stanc\n",
      "/home/aravind/Downloads/cmdstan-2.16.0/bin/stanc --o=/tmp/anon_00728df0-14e8-411c-8ad8-6e5279e956c4_model.cpp /tmp/anon_00728df0-14e8-411c-8ad8-6e5279e956c4.stan\n",
      "Model name=anon_00728df0_14e8_411c_8ad8_6e5279e956c4_model\n",
      "Input file=/tmp/anon_00728df0-14e8-411c-8ad8-6e5279e956c4.stan\n",
      "Output file=/tmp/anon_00728df0-14e8-411c-8ad8-6e5279e956c4_model.cpp\n"
     ]
    }
   ],
   "source": [
    "%%stan\n",
    "data {\n",
    "  \n",
    "  int<lower=1> N;\n",
    "  int<lower=1> K;\n",
    "  \n",
    "  matrix[N,K] X;\n",
    "  vector[N] y;\n",
    "}\n",
    "\n",
    "parameters{\n",
    "  real alpha;\n",
    "  ordered[K] beta;\n",
    "  real<lower=0> sigma;\n",
    "  \n",
    "}\n",
    "\n",
    "model {\n",
    "  \n",
    "  alpha ~ normal(0,10);\n",
    "  beta[1] ~ normal(.1,.1);\n",
    "  beta[2] ~ normal(.2,.1);\n",
    "  beta[3] ~ normal(.3,.1);\n",
    "  sigma ~ exponential(1);\n",
    "  for (n in 1:N) {\n",
    "    y[n] ~ normal(X[n]*beta + alpha, sigma);\n",
    "  } \n",
    "  \n",
    "}\n",
    "\n",
    "generated quantities {\n",
    "  vector[N] y_rep;\n",
    "  for (n in 1:N) {\n",
    "    y_rep[n] = normal_rng(X[n]*beta + alpha, sigma);\n",
    "  }\n",
    "}"
   ]
  },
  {
   "cell_type": "code",
   "execution_count": 15,
   "metadata": {},
   "outputs": [
    {
     "data": {
      "text/plain": [
       "{'model_name': None,\n",
       " 'stan_code': u'data {\\n  \\n  int<lower=1> N;\\n  int<lower=1> K;\\n  \\n  matrix[N,K] X;\\n  vector[N] y;\\n}\\n\\nparameters{\\n  real alpha;\\n  ordered[K] beta;\\n  real<lower=0> sigma;\\n  \\n}\\n\\nmodel {\\n  \\n  alpha ~ normal(0,10);\\n  beta[1] ~ normal(.1,.1);\\n  beta[2] ~ normal(.2,.1);\\n  beta[3] ~ normal(.3,.1);\\n  sigma ~ exponential(1);\\n  for (n in 1:N) {\\n    y[n] ~ normal(X[n]*beta + alpha, sigma);\\n  } \\n  \\n}\\n\\ngenerated quantities {\\n  vector[N] y_rep;\\n  for (n in 1:N) {\\n    y_rep[n] = normal_rng(X[n]*beta + alpha, sigma);\\n  }\\n}',\n",
       " 'stan_file': None}"
      ]
     },
     "execution_count": 15,
     "metadata": {},
     "output_type": "execute_result"
    }
   ],
   "source": [
    "_stan_vars"
   ]
  },
  {
   "cell_type": "code",
   "execution_count": 16,
   "metadata": {},
   "outputs": [
    {
     "name": "stderr",
     "output_type": "stream",
     "text": [
      "INFO:pystan:COMPILING THE C++ CODE FOR MODEL anon_model_b64da7aba54424736fda036b359c5ae9 NOW.\n"
     ]
    }
   ],
   "source": [
    "model = pystan.StanModel(model_code=_stan_vars['stan_code'])"
   ]
  },
  {
   "cell_type": "code",
   "execution_count": 17,
   "metadata": {},
   "outputs": [
    {
     "data": {
      "text/plain": [
       "Inference for Stan model: anon_model_b64da7aba54424736fda036b359c5ae9.\n",
       "4 chains, each with iter=2000; warmup=1000; thin=1; \n",
       "post-warmup draws per chain=1000, total post-warmup draws=4000.\n",
       "\n",
       "            mean se_mean     sd   2.5%    25%    50%    75%  97.5%  n_eff   Rhat\n",
       "alpha       3.86  3.4e-3   0.18   3.51   3.74   3.86   3.98    4.2 2615.0    1.0\n",
       "beta[0]     0.08  1.7e-3   0.07  -0.05   0.03   0.08   0.13   0.22 1814.0    1.0\n",
       "beta[1]      0.2  1.1e-3   0.07   0.07   0.15    0.2   0.24   0.33 3719.0    1.0\n",
       "beta[2]     0.31  1.1e-3   0.07   0.17   0.26   0.31   0.36   0.45 4000.0    1.0\n",
       "sigma       1.71  2.6e-3   0.13   1.49   1.62    1.7   1.79   1.98 2412.0    1.0\n",
       "y_rep[0]    4.34    0.03   1.73   1.03   3.17   4.34    5.5   7.81 4000.0    1.0\n",
       "y_rep[1]    3.86    0.03   1.72   0.57   2.69   3.84   5.02   7.26 4000.0    1.0\n",
       "y_rep[2]    4.26    0.03   1.74   0.91   3.09   4.26   5.42   7.78 4000.0    1.0\n",
       "y_rep[3]     4.0    0.03   1.71   0.56   2.88    4.0   5.14   7.34 3983.0    1.0\n",
       "y_rep[4]    3.53    0.03   1.72   0.15   2.38   3.54   4.68   6.86 3879.0    1.0\n",
       "y_rep[5]    4.04    0.03   1.72   0.59   2.87   4.04   5.21   7.41 3553.0    1.0\n",
       "y_rep[6]    3.54    0.03   1.72    0.2   2.38   3.56   4.72    6.9 3844.0    1.0\n",
       "y_rep[7]    3.71    0.03   1.71   0.33    2.5    3.7   4.87   7.09 3952.0    1.0\n",
       "y_rep[8]    3.29    0.03   1.68  -0.11   2.16   3.31   4.44   6.54 4000.0    1.0\n",
       "y_rep[9]    4.16    0.03   1.75   0.77   2.97   4.14   5.37   7.65 4000.0    1.0\n",
       "y_rep[10]   4.15    0.03   1.74   0.84   2.96   4.13   5.31   7.68 4000.0    1.0\n",
       "y_rep[11]    3.5    0.03   1.73   0.02   2.32    3.5   4.69   6.85 3860.0    1.0\n",
       "y_rep[12]   3.74    0.03   1.71   0.38   2.62   3.72   4.87   7.08 4000.0    1.0\n",
       "y_rep[13]   2.95    0.03   1.72  -0.44   1.82   2.97   4.08   6.27 3189.0    1.0\n",
       "y_rep[14]   4.28    0.03   1.75   0.77   3.14   4.28   5.42    7.8 3723.0    1.0\n",
       "y_rep[15]    4.4    0.03   1.74   0.93   3.25   4.41   5.54    7.7 4000.0    1.0\n",
       "y_rep[16]   3.25    0.03   1.73  -0.13   2.08   3.24   4.42   6.66 4000.0    1.0\n",
       "y_rep[17]    4.5    0.03   1.73   1.17   3.34   4.52   5.63   7.91 4000.0    1.0\n",
       "y_rep[18]   4.12    0.03    1.7   0.77   2.95   4.15   5.27    7.4 3980.0    1.0\n",
       "y_rep[19]   3.72    0.03   1.73   0.25   2.54    3.7    4.9   7.12 3977.0    1.0\n",
       "y_rep[20]    3.4    0.03   1.72  -0.02   2.24    3.4   4.59   6.71 4000.0    1.0\n",
       "y_rep[21]    4.4    0.03   1.72   1.02   3.24   4.37   5.57    7.9 4000.0    1.0\n",
       "y_rep[22]   4.28    0.03   1.73   0.88   3.09    4.3   5.44   7.59 4000.0    1.0\n",
       "y_rep[23]   4.37    0.03   1.75   0.84   3.23   4.37   5.56   7.77 4000.0    1.0\n",
       "y_rep[24]    4.4    0.03   1.72   1.07   3.26   4.36   5.53   7.84 3023.0    1.0\n",
       "y_rep[25]   3.77    0.03   1.71   0.49   2.62   3.76   4.94   7.14 3908.0    1.0\n",
       "y_rep[26]   4.26    0.03   1.75   0.78   3.09   4.26   5.45   7.67 3492.0    1.0\n",
       "y_rep[27]   3.61    0.03   1.69   0.25   2.46   3.65   4.76   6.87 3942.0    1.0\n",
       "y_rep[28]   3.76    0.03   1.71   0.42   2.58    3.8   4.93   7.12 4000.0    1.0\n",
       "y_rep[29]   4.83    0.03   1.73   1.38   3.66   4.84   5.99   8.19 4000.0    1.0\n",
       "y_rep[30]   3.72    0.03   1.71   0.28   2.58   3.74   4.87   7.11 4000.0    1.0\n",
       "y_rep[31]   3.87    0.03   1.71   0.49   2.73   3.88   5.05   7.21 3881.0    1.0\n",
       "y_rep[32]   4.73    0.03   1.74   1.27   3.58   4.76    5.9   8.12 3634.0    1.0\n",
       "y_rep[33]   3.45    0.03   1.73  -0.01   2.27   3.46   4.61   6.85 4000.0    1.0\n",
       "y_rep[34]   4.27    0.03   1.71   0.86   3.15   4.27   5.43   7.67 4000.0    1.0\n",
       "y_rep[35]   3.99    0.03   1.72   0.61   2.82   3.98   5.14   7.36 3662.0    1.0\n",
       "y_rep[36]   3.81    0.03   1.72   0.52   2.66   3.79   4.91   7.24 3861.0    1.0\n",
       "y_rep[37]   4.24    0.03   1.72   0.88    3.1   4.19    5.4   7.63 4000.0    1.0\n",
       "y_rep[38]   3.93    0.03   1.74   0.45   2.79   3.94   5.09   7.41 3661.0    1.0\n",
       "y_rep[39]   3.98    0.03   1.73   0.72   2.81   3.97   5.14   7.46 3847.0    1.0\n",
       "y_rep[40]   3.73    0.03   1.73   0.33   2.54   3.74   4.92    7.2 4000.0    1.0\n",
       "y_rep[41]   3.77    0.03   1.71   0.36   2.66    3.8   4.91   7.06 4000.0    1.0\n",
       "y_rep[42]   3.89    0.03   1.74   0.47    2.7    3.9   5.06   7.25 3327.0    1.0\n",
       "y_rep[43]   4.15    0.03   1.73   0.76   2.98   4.11    5.3   7.69 3906.0    1.0\n",
       "y_rep[44]   3.45    0.03    1.7   0.12    2.3   3.43   4.65   6.74 3882.0    1.0\n",
       "y_rep[45]    4.0    0.03   1.69   0.67   2.87    4.0   5.16   7.23 3989.0    1.0\n",
       "y_rep[46]   3.71    0.03    1.7   0.42   2.53    3.7   4.83   7.04 3764.0    1.0\n",
       "y_rep[47]   3.83    0.03   1.72   0.46   2.68   3.84   4.94   7.28 4000.0    1.0\n",
       "y_rep[48]   4.45    0.03   1.74   1.06    3.3   4.44   5.65   7.85 4000.0    1.0\n",
       "y_rep[49]   4.04    0.03   1.72   0.61   2.89   4.02   5.17   7.46 3908.0    1.0\n",
       "y_rep[50]   3.72    0.03   1.72   0.42   2.56   3.73   4.84   7.09 3859.0    1.0\n",
       "y_rep[51]   3.86    0.03   1.75   0.33    2.7   3.86   5.01   7.22 3882.0    1.0\n",
       "y_rep[52]   3.78    0.03   1.75   0.31   2.61   3.77   4.97   7.24 3809.0    1.0\n",
       "y_rep[53]   3.98    0.03   1.74   0.55   2.85   3.96   5.13    7.4 4000.0    1.0\n",
       "y_rep[54]   4.32    0.03   1.74   0.94   3.18   4.32   5.46   7.79 3970.0    1.0\n",
       "y_rep[55]   4.33    0.03   1.74   0.85   3.16   4.35    5.5   7.74 3927.0    1.0\n",
       "y_rep[56]   4.04    0.03   1.74   0.59   2.89   4.04   5.16   7.44 4000.0    1.0\n",
       "y_rep[57]   3.85    0.03   1.71   0.54   2.65   3.84   5.02   7.23 3912.0    1.0\n",
       "y_rep[58]   3.85    0.03   1.71   0.42    2.7   3.82    5.0   7.28 4000.0    1.0\n",
       "y_rep[59]    3.5    0.03   1.74   0.04   2.37   3.46   4.67   6.89 4000.0    1.0\n",
       "y_rep[60]   4.32    0.03   1.71   0.88   3.16   4.34   5.48   7.65 4000.0    1.0\n",
       "y_rep[61]   3.47    0.03   1.73   0.13   2.31   3.44   4.62   6.87 3718.0    1.0\n",
       "y_rep[62]   4.34    0.03   1.73   0.93   3.19   4.34   5.48   7.71 4000.0    1.0\n",
       "y_rep[63]   4.38    0.03   1.72    0.9   3.25   4.37   5.52   7.81 4000.0    1.0\n",
       "y_rep[64]   3.72    0.03   1.74   0.28   2.57   3.73   4.86   7.17 4000.0    1.0\n",
       "y_rep[65]   4.58    0.03   1.73   1.27   3.43   4.54   5.76    8.0 4000.0    1.0\n",
       "y_rep[66]   3.92    0.03   1.73   0.54   2.78   3.95   5.08   7.23 4000.0    1.0\n",
       "y_rep[67]   3.46    0.03   1.72   0.09   2.32   3.44   4.63    6.8 3944.0    1.0\n",
       "y_rep[68]   3.67    0.03   1.71   0.25   2.55   3.69   4.81    7.0 3743.0    1.0\n",
       "y_rep[69]   3.83    0.03   1.76    0.4   2.67   3.85   5.02   7.34 3997.0    1.0\n",
       "y_rep[70]   3.82    0.03   1.68   0.49   2.69   3.83   4.95   7.07 3927.0    1.0\n",
       "y_rep[71]   3.81    0.03   1.73   0.34   2.63    3.8   4.99   7.18 3404.0    1.0\n",
       "y_rep[72]   3.84    0.03   1.72   0.38   2.67   3.87   5.01   7.19 4000.0    1.0\n",
       "y_rep[73]   4.03    0.03    1.7   0.71   2.86    4.0   5.18   7.46 4000.0    1.0\n",
       "y_rep[74]   4.59    0.03   1.71   1.33   3.44    4.6   5.74   7.97 4000.0    1.0\n",
       "y_rep[75]   3.66    0.03   1.72   0.34   2.51   3.61   4.78   7.21 4000.0    1.0\n",
       "y_rep[76]   3.52    0.03   1.73   0.16    2.4   3.48   4.66   7.07 4000.0    1.0\n",
       "y_rep[77]   4.28    0.03   1.74    0.8   3.13   4.32   5.42   7.77 4000.0    1.0\n",
       "y_rep[78]   3.51    0.03   1.73   0.08   2.36   3.51   4.69   6.94 3929.0    1.0\n",
       "y_rep[79]   3.83    0.03   1.76   0.34   2.68   3.84   5.01    7.2 4000.0    1.0\n",
       "y_rep[80]    3.2    0.03   1.71  -0.23   2.09   3.22   4.34   6.65 3374.0    1.0\n",
       "y_rep[81]   4.04    0.03   1.74   0.67   2.87   4.01   5.19   7.49 4000.0    1.0\n",
       "y_rep[82]   3.95    0.03   1.72   0.54   2.81   3.93   5.09   7.29 3748.0    1.0\n",
       "y_rep[83]   4.18    0.03   1.73   0.78   3.02   4.17   5.32   7.68 4000.0    1.0\n",
       "y_rep[84]   3.74    0.03   1.67   0.41   2.62   3.74    4.9    7.0 4000.0    1.0\n",
       "y_rep[85]   3.34    0.03   1.76  -0.16   2.14   3.31    4.5   6.81 4000.0    1.0\n",
       "y_rep[86]   4.28    0.03   1.75   0.88   3.07   4.29   5.48   7.75 3939.0    1.0\n",
       "y_rep[87]   3.42    0.03   1.71   0.01   2.28   3.45   4.54    6.8 4000.0    1.0\n",
       "y_rep[88]   3.27    0.03    1.7-9.2e-3   2.13   3.22   4.39   6.64 3591.0    1.0\n",
       "y_rep[89]   3.58    0.03   1.74   0.19   2.42   3.56   4.74   7.13 4000.0    1.0\n",
       "y_rep[90]   3.81    0.03   1.74   0.32   2.65    3.8   4.97   7.16 3568.0    1.0\n",
       "y_rep[91]    3.7    0.03   1.75   0.27   2.52   3.72    4.9   7.14 3876.0    1.0\n",
       "y_rep[92]    4.3    0.03   1.77   0.86    3.1   4.31   5.45   7.86 3599.0    1.0\n",
       "y_rep[93]   3.46    0.03   1.73-4.7e-3   2.32   3.44   4.63   6.86 4000.0    1.0\n",
       "y_rep[94]    3.2    0.03   1.72  -0.18   2.05   3.21   4.36   6.55 3986.0    1.0\n",
       "y_rep[95]   3.84    0.03   1.73   0.47   2.69   3.82   5.02   7.26 4000.0    1.0\n",
       "y_rep[96]   3.67    0.03   1.75   0.12   2.49   3.69   4.83   7.12 3942.0    1.0\n",
       "y_rep[97]   3.34    0.03   1.71-2.9e-3   2.18   3.34   4.51   6.63 3768.0    1.0\n",
       "y_rep[98]   4.02    0.03    1.7   0.73    2.9   3.99   5.16   7.47 3963.0    1.0\n",
       "y_rep[99]   3.74    0.03   1.74   0.38   2.55   3.77   4.86   7.18 4000.0    1.0\n",
       "lp__      -110.4    0.06   1.82 -115.0 -111.3 -110.1 -109.1 -108.1  993.0    1.0\n",
       "\n",
       "Samples were drawn using NUTS at Thu Aug 31 01:29:30 2017.\n",
       "For each parameter, n_eff is a crude measure of effective sample size,\n",
       "and Rhat is the potential scale reduction factor on split chains (at \n",
       "convergence, Rhat=1)."
      ]
     },
     "execution_count": 17,
     "metadata": {},
     "output_type": "execute_result"
    }
   ],
   "source": [
    "model.sampling(data=data)"
   ]
  },
  {
   "cell_type": "markdown",
   "metadata": {},
   "source": [
    "### 4. %%stan -f [stan_file_name] -o [cpp_file_name]\n",
    "Saves the cell code to a file specified in [stan_file_name] and outputs the compiled cpp file to the file name specified by [cpp_file_name]\n"
   ]
  },
  {
   "cell_type": "markdown",
   "metadata": {},
   "source": [
    "### 5. %% stan -f  [stan_file_name] --allow_undefined\n",
    "passes the --allow_undefined argument to stanc compiler"
   ]
  },
  {
   "cell_type": "markdown",
   "metadata": {},
   "source": [
    "### 6.%%stan -f  [stan_file_name] --stanc [stanc_compiler_path]\n",
    "Saves the cell code to a file specified in [stan_file_name] and compiles using the stan compiler specified in [stanc_compiler]. By default, it uses stanc compiler in your path. If your path does not have the stanc compiler, use this option (e.g %%stan binom.stan --stanc \"~/cmdstan-2.16.0/bin/stanc\")"
   ]
  },
  {
   "cell_type": "code",
   "execution_count": 18,
   "metadata": {
    "collapsed": true
   },
   "outputs": [],
   "source": [
    "assert True"
   ]
  },
  {
   "cell_type": "code",
   "execution_count": null,
   "metadata": {
    "collapsed": true
   },
   "outputs": [],
   "source": []
  }
 ],
 "metadata": {
  "kernelspec": {
   "display_name": "Python 3",
   "language": "python",
   "name": "python3"
  },
  "language_info": {
   "codemirror_mode": {
    "name": "ipython",
    "version": 3
   },
   "file_extension": ".py",
   "mimetype": "text/x-python",
   "name": "python",
   "nbconvert_exporter": "python",
   "pygments_lexer": "ipython3",
   "version": "3.6.1"
  }
 },
 "nbformat": 4,
 "nbformat_minor": 2
}

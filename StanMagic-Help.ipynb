{
 "cells": [
  {
   "cell_type": "markdown",
   "metadata": {},
   "source": [
    "This extension serves narrow my use case for writing, compiling, error-checking and validating stan models within jupyter notebook. I am not a comfortable R user and STAN currently leans towards R. I wrote this simple script as I wanted an uninterruped workflow for data manipulation, stan model creation and analysis  all in jupyter notebook. Once the codemirror support is merged in, sysntax highlighting for stan code could also be enabled."
   ]
  },
  {
   "cell_type": "markdown",
   "metadata": {},
   "source": [
    "## Installation"
   ]
  },
  {
   "cell_type": "markdown",
   "metadata": {},
   "source": [
    "`pip install git+https://github.com/Arvinds-ds/stanmagic.git`"
   ]
  },
  {
   "cell_type": "markdown",
   "metadata": {},
   "source": [
    "## Testing %%stan magic"
   ]
  },
  {
   "cell_type": "code",
   "execution_count": 32,
   "metadata": {},
   "outputs": [],
   "source": [
    "import numpy as np\n",
    "from collections import OrderedDict\n",
    "import pystan"
   ]
  },
  {
   "cell_type": "markdown",
   "metadata": {},
   "source": [
    "### Load stanmagic extension"
   ]
  },
  {
   "cell_type": "code",
   "execution_count": 33,
   "metadata": {},
   "outputs": [
    {
     "name": "stdout",
     "output_type": "stream",
     "text": [
      "The stanmagic extension is already loaded. To reload it, use:\n",
      "  %reload_ext stanmagic\n"
     ]
    }
   ],
   "source": [
    "%load_ext stanmagic "
   ]
  },
  {
   "cell_type": "markdown",
   "metadata": {},
   "source": [
    "### Ensure stanc compiler is installed\n",
    "\n",
    "If the compiler is not in your path, you may have to pass --stanc [compiler_path] to %%stan"
   ]
  },
  {
   "cell_type": "code",
   "execution_count": 35,
   "metadata": {},
   "outputs": [
    {
     "name": "stdout",
     "output_type": "stream",
     "text": [
      "stanc version 2.16.0\r\n"
     ]
    }
   ],
   "source": [
    "!stanc --version"
   ]
  },
  {
   "cell_type": "markdown",
   "metadata": {},
   "source": [
    "### Generate test data"
   ]
  },
  {
   "cell_type": "code",
   "execution_count": 19,
   "metadata": {
    "collapsed": true
   },
   "outputs": [],
   "source": [
    "X = np.random.randn(100,3)\n",
    "beta = np.array([0.1,0.2,0.3])\n",
    "alpha = 4\n",
    "sigma = 1.7\n",
    "y = X@beta + alpha + np.random.randn(100)*sigma\n",
    "N=100\n",
    "K=3"
   ]
  },
  {
   "cell_type": "code",
   "execution_count": 20,
   "metadata": {
    "collapsed": true
   },
   "outputs": [],
   "source": [
    "data = OrderedDict({'X':X, 'y': y, 'N':N, 'K': K})"
   ]
  },
  {
   "cell_type": "markdown",
   "metadata": {},
   "source": [
    "### 1. %%stan -f [stan_file_name]\n",
    "\n",
    "Saves the cell code to a file specified in [stan_file_name]. The file name can also be accessed in _stan_vars['stan_file'] generated in local namespace"
   ]
  },
  {
   "cell_type": "code",
   "execution_count": 21,
   "metadata": {},
   "outputs": [
    {
     "name": "stdout",
     "output_type": "stream",
     "text": [
      "Using stanc compiler:  /home/aravind/Downloads/cmdstan-2.16.0/bin/stanc\n",
      "/home/aravind/Downloads/cmdstan-2.16.0/bin/stanc --o=/tmp/b74e4bf1-804a-4b51-aca1-1594b5b76d9a.cpp test.stan\n",
      "Model name=test_model\n",
      "Input file=test.stan\n",
      "Output file=/tmp/b74e4bf1-804a-4b51-aca1-1594b5b76d9a.cpp\n"
     ]
    }
   ],
   "source": [
    "%%stan -f test.stan\n",
    "data {\n",
    "  \n",
    "  int<lower=1> N;\n",
    "  int<lower=1> K;\n",
    "  \n",
    "  matrix[N,K] X;\n",
    "  vector[N] y;\n",
    "}\n",
    "\n",
    "parameters{\n",
    "  real alpha;\n",
    "  ordered[K] beta;\n",
    "  real<lower=0> sigma;\n",
    "  \n",
    "}\n",
    "\n",
    "model {\n",
    "  \n",
    "  alpha ~ normal(0,10);\n",
    "  beta[1] ~ normal(.1,.1);\n",
    "  beta[2] ~ normal(.2,.1);\n",
    "  beta[3] ~ normal(.3,.1);\n",
    "  sigma ~ exponential(1);\n",
    "  for (n in 1:N) {\n",
    "    y[n] ~ normal(X[n]*beta + alpha, sigma);\n",
    "  } \n",
    "  \n",
    "}\n",
    "\n",
    "generated quantities {\n",
    "  vector[N] y_rep;\n",
    "  for (n in 1:N) {\n",
    "    y_rep[n] = normal_rng(X[n]*beta + alpha, sigma);\n",
    "  }\n",
    "}"
   ]
  },
  {
   "cell_type": "code",
   "execution_count": 22,
   "metadata": {},
   "outputs": [
    {
     "data": {
      "text/plain": [
       "{'model_name': 'test_model', 'stan_code': None, 'stan_file': 'test.stan'}"
      ]
     },
     "execution_count": 22,
     "metadata": {},
     "output_type": "execute_result"
    }
   ],
   "source": [
    "_stan_vars"
   ]
  },
  {
   "cell_type": "code",
   "execution_count": 23,
   "metadata": {},
   "outputs": [
    {
     "name": "stderr",
     "output_type": "stream",
     "text": [
      "INFO:pystan:COMPILING THE C++ CODE FOR MODEL anon_model_b64da7aba54424736fda036b359c5ae9 NOW.\n"
     ]
    }
   ],
   "source": [
    "model = pystan.StanModel(file=_stan_vars['stan_file'])"
   ]
  },
  {
   "cell_type": "code",
   "execution_count": 24,
   "metadata": {},
   "outputs": [
    {
     "data": {
      "text/plain": [
       "Inference for Stan model: anon_model_b64da7aba54424736fda036b359c5ae9.\n",
       "4 chains, each with iter=2000; warmup=1000; thin=1; \n",
       "post-warmup draws per chain=1000, total post-warmup draws=4000.\n",
       "\n",
       "            mean se_mean     sd   2.5%    25%    50%    75%  97.5%  n_eff   Rhat\n",
       "alpha       4.14  2.9e-3   0.17    3.8   4.03   4.15   4.25   4.46   3303    1.0\n",
       "beta[0]     0.07  1.6e-3   0.07  -0.08   0.02   0.07   0.12    0.2   2193    1.0\n",
       "beta[1]     0.18  1.1e-3   0.06   0.06   0.14   0.19   0.23   0.31   3144    1.0\n",
       "beta[2]     0.31  1.1e-3   0.07   0.18   0.26   0.31   0.36   0.46   4000    1.0\n",
       "sigma       1.64  2.0e-3   0.12   1.43   1.56   1.63   1.71   1.88   3253    1.0\n",
       "y_rep[0]    4.17    0.03   1.62   0.97   3.12   4.17   5.26   7.36   4000    1.0\n",
       "y_rep[1]    3.89    0.03   1.69   0.51   2.78    3.9   5.02   7.19   3856    1.0\n",
       "y_rep[2]    4.49    0.03   1.66   1.23   3.39   4.48   5.56   7.82   4000    1.0\n",
       "y_rep[3]    4.62    0.03   1.67   1.48   3.47   4.59   5.74   7.93   3884    1.0\n",
       "y_rep[4]    5.05    0.03   1.68   1.78    3.9   5.06   6.22   8.27   3980    1.0\n",
       "y_rep[5]    5.22    0.03   1.66   1.96   4.09   5.25   6.32   8.45   4000    1.0\n",
       "y_rep[6]    5.17    0.03   1.67   1.88   4.06   5.18   6.28   8.42   3885    1.0\n",
       "y_rep[7]    4.18    0.03   1.68   0.89   3.04   4.15   5.33   7.39   3953    1.0\n",
       "y_rep[8]    4.37    0.03   1.63   1.14   3.26   4.39   5.49   7.54   4000    1.0\n",
       "y_rep[9]    4.01    0.03   1.66   0.76   2.85   4.03   5.13   7.26   4000    1.0\n",
       "y_rep[10]    4.6    0.03   1.66   1.36    3.5    4.6   5.74   7.81   4000    1.0\n",
       "y_rep[11]   4.05    0.03   1.67   0.76   2.95   4.07   5.18   7.31   3736    1.0\n",
       "y_rep[12]   4.33    0.03   1.65   1.07   3.22   4.28   5.43   7.62   4000    1.0\n",
       "y_rep[13]   3.99    0.03   1.64   0.76   2.89   3.98   5.08   7.23   3932    1.0\n",
       "y_rep[14]   3.69    0.03   1.66   0.44   2.61   3.68   4.78   6.89   3979    1.0\n",
       "y_rep[15]   3.83    0.03   1.63    0.7   2.73   3.85   4.91   6.99   3900    1.0\n",
       "y_rep[16]   4.61    0.03   1.64   1.38    3.5   4.62   5.68    7.9   3924    1.0\n",
       "y_rep[17]   3.93    0.03   1.65   0.69   2.81   3.94   5.05   7.19   4000    1.0\n",
       "y_rep[18]   4.68    0.03   1.63   1.48   3.58   4.65   5.79   7.95   4000    1.0\n",
       "y_rep[19]   3.84    0.03   1.65   0.55   2.77   3.85   4.92   7.07   4000    1.0\n",
       "y_rep[20]   3.54    0.03   1.67   0.21   2.43   3.55   4.64   6.91   4000    1.0\n",
       "y_rep[21]   3.62    0.03   1.67   0.25   2.55    3.6   4.73   6.96   4000    1.0\n",
       "y_rep[22]   4.52    0.03   1.66    1.3   3.38   4.53   5.65    7.8   3859    1.0\n",
       "y_rep[23]   3.68    0.03   1.63   0.44   2.56   3.66   4.81   6.88   3963    1.0\n",
       "y_rep[24]   4.03    0.03   1.67   0.68   2.92   4.05   5.16   7.23   3807    1.0\n",
       "y_rep[25]   5.04    0.03   1.69   1.85   3.89   5.02   6.16   8.45   3769    1.0\n",
       "y_rep[26]   4.65    0.03   1.63    1.4   3.54   4.65   5.75   7.84   4000    1.0\n",
       "y_rep[27]   3.98    0.03   1.65   0.77   2.85    4.0   5.08   7.32   4000    1.0\n",
       "y_rep[28]   4.32    0.03   1.65   1.06   3.22   4.32   5.43   7.57   3669    1.0\n",
       "y_rep[29]   4.05    0.03   1.64   0.86   2.95   4.04   5.19   7.23   3754    1.0\n",
       "y_rep[30]   4.19    0.03   1.65   0.94   3.11   4.19   5.28   7.37   4000    1.0\n",
       "y_rep[31]   3.98    0.03   1.62   0.84    2.9   3.99   5.05   7.18   4000    1.0\n",
       "y_rep[32]   3.34    0.03   1.63   0.16   2.25   3.36   4.41   6.58   4000    1.0\n",
       "y_rep[33]   4.26    0.03   1.63   0.92   3.17   4.22   5.33   7.51   3682    1.0\n",
       "y_rep[34]   3.93    0.03   1.67   0.69   2.79   3.94   5.05   7.15   4000    1.0\n",
       "y_rep[35]   4.53    0.03   1.65   1.35   3.39   4.52   5.66   7.79   3768    1.0\n",
       "y_rep[36]   4.82    0.03   1.63   1.72   3.69   4.79   5.93   8.07   3833    1.0\n",
       "y_rep[37]   3.61    0.03   1.65    0.5   2.48   3.62   4.73   6.85   3875    1.0\n",
       "y_rep[38]   4.26    0.03   1.64    1.0   3.18   4.22   5.37   7.48   3789    1.0\n",
       "y_rep[39]   4.04    0.03   1.63   0.78   2.97   4.01   5.11   7.33   3951    1.0\n",
       "y_rep[40]   3.82    0.03   1.64    0.6   2.74   3.83    4.9   7.02   4000    1.0\n",
       "y_rep[41]   4.63    0.03   1.65    1.4   3.51   4.62   5.75   7.96   3850    1.0\n",
       "y_rep[42]   3.95    0.03   1.66   0.77   2.86   3.92   5.06   7.28   3982    1.0\n",
       "y_rep[43]   3.98    0.03   1.69   0.65   2.83   3.99   5.11   7.25   4000    1.0\n",
       "y_rep[44]   3.78    0.03   1.64   0.61    2.7   3.77   4.92   6.98   3883    1.0\n",
       "y_rep[45]   4.07    0.03   1.67   0.75   2.95   4.07   5.21   7.32   4000    1.0\n",
       "y_rep[46]   4.67    0.03   1.67   1.29   3.55   4.67   5.76    8.0   4000    1.0\n",
       "y_rep[47]   3.97    0.03   1.67   0.73   2.85   3.96    5.1   7.22   4000    1.0\n",
       "y_rep[48]   4.08    0.03   1.63   0.94   3.02   4.05   5.11   7.32   4000    1.0\n",
       "y_rep[49]   3.91    0.03   1.66   0.67   2.81   3.91    5.0   7.13   4000    1.0\n",
       "y_rep[50]   3.11    0.03   1.66  -0.15    2.0   3.12   4.23   6.35   4000    1.0\n",
       "y_rep[51]   4.17    0.03   1.65   0.88   3.05   4.17   5.31   7.46   4000    1.0\n",
       "y_rep[52]   4.23    0.03   1.65   1.05   3.15   4.19   5.39   7.47   3869    1.0\n",
       "y_rep[53]   4.42    0.03   1.63   1.18    3.3   4.42   5.53   7.61   4000    1.0\n",
       "y_rep[54]   3.71    0.03   1.65   0.46   2.64   3.69   4.82   6.97   3839    1.0\n",
       "y_rep[55]   3.92    0.03   1.65   0.69    2.8   3.94   5.03   7.11   3739    1.0\n",
       "y_rep[56]   5.03    0.03   1.66   1.76   3.91   5.01   6.14   8.39   4000    1.0\n",
       "y_rep[57]    3.9    0.03   1.65   0.64    2.8   3.89   5.02   7.11   3956    1.0\n",
       "y_rep[58]   3.87    0.03   1.65   0.64   2.75   3.83   4.97   7.07   3807    1.0\n",
       "y_rep[59]   4.24    0.03   1.62   0.97   3.14   4.26   5.33   7.34   4000    1.0\n",
       "y_rep[60]   3.84    0.03   1.66   0.58   2.74   3.84   4.92   7.18   4000    1.0\n",
       "y_rep[61]   4.69    0.03   1.65   1.53   3.56   4.69   5.83   7.92   3781    1.0\n",
       "y_rep[62]    4.1    0.03   1.65   0.83    3.0   4.13   5.22   7.33   4000    1.0\n",
       "y_rep[63]   4.63    0.03   1.67    1.3   3.52   4.64   5.74   7.88   4000    1.0\n",
       "y_rep[64]   3.67    0.03   1.63    0.4   2.55   3.66   4.77   6.89   4000    1.0\n",
       "y_rep[65]   4.57    0.03   1.65   1.26   3.49   4.58    5.7   7.79   4000    1.0\n",
       "y_rep[66]   5.06    0.03   1.66   1.79   3.94   5.08   6.17   8.25   4000    1.0\n",
       "y_rep[67]   4.24    0.03   1.67   0.97    3.1   4.23   5.38   7.45   4000    1.0\n",
       "y_rep[68]   3.82    0.03   1.69   0.45    2.7   3.82   4.96   7.08   4000    1.0\n",
       "y_rep[69]    4.2    0.03   1.65   1.03   3.08   4.23   5.27   7.54   4000    1.0\n",
       "y_rep[70]   4.68    0.03   1.67   1.37   3.54   4.69   5.82   7.96   3967    1.0\n",
       "y_rep[71]   3.92    0.03    1.6   0.74   2.87   3.93   4.99   7.06   3874    1.0\n",
       "y_rep[72]   3.39    0.03   1.65-6.5e-3   2.32   3.38   4.45   6.62   4000    1.0\n",
       "y_rep[73]   4.86    0.03   1.64   1.61   3.74   4.86   5.99   8.09   4000    1.0\n",
       "y_rep[74]    3.9    0.03   1.64   0.76   2.79    3.9   4.97   7.21   3915    1.0\n",
       "y_rep[75]   3.66    0.03   1.65    0.4   2.56   3.64   4.79   6.82   4000    1.0\n",
       "y_rep[76]   4.02    0.03   1.64   0.86   2.91   4.01   5.14    7.2   3859    1.0\n",
       "y_rep[77]    4.2    0.03   1.67   0.97   3.07   4.18    5.3   7.53   4000    1.0\n",
       "y_rep[78]   3.95    0.03   1.64   0.82   2.86   3.94   5.03   7.28   3786    1.0\n",
       "y_rep[79]   4.71    0.03   1.63    1.5   3.61    4.7    5.8   7.97   3913    1.0\n",
       "y_rep[80]   4.33    0.03   1.65   1.03   3.23   4.33   5.45   7.56   4000    1.0\n",
       "y_rep[81]   5.03    0.03   1.65   1.87   3.91   5.05   6.13   8.23   4000    1.0\n",
       "y_rep[82]   3.38    0.03   1.67   0.11   2.28   3.37   4.48   6.66   4000    1.0\n",
       "y_rep[83]   4.83    0.03   1.68   1.52   3.69   4.83   5.94   8.09   4000    1.0\n",
       "y_rep[84]   3.78    0.03   1.64   0.52    2.7   3.77   4.89   6.97   4000    1.0\n",
       "y_rep[85]   4.43    0.03   1.66   1.26   3.31   4.42   5.54    7.8   4000    1.0\n",
       "y_rep[86]   4.07    0.03   1.64   0.87   2.99   4.07   5.14   7.32   4000    1.0\n",
       "y_rep[87]   3.59    0.03   1.63   0.37   2.52    3.6    4.7   6.78   4000    1.0\n",
       "y_rep[88]   4.44    0.03   1.68   1.18   3.32   4.46   5.55   7.77   4000    1.0\n",
       "y_rep[89]    4.4    0.03   1.68   1.04   3.27   4.41   5.54   7.71   4000    1.0\n",
       "y_rep[90]   3.33    0.03   1.69   0.09   2.18   3.31   4.46   6.73   3508    1.0\n",
       "y_rep[91]   4.52    0.03   1.66   1.24   3.44   4.48   5.63   7.83   4000    1.0\n",
       "y_rep[92]   4.73    0.03   1.69   1.47   3.62   4.73   5.87   8.01   3877    1.0\n",
       "y_rep[93]   4.42    0.03   1.65   1.09   3.32   4.43   5.54   7.66   3785    1.0\n",
       "y_rep[94]   4.18    0.03   1.64   0.82   3.11   4.19    5.3   7.34   4000    1.0\n",
       "y_rep[95]   4.27    0.03   1.68   0.99   3.17   4.28   5.41   7.53   4000    1.0\n",
       "y_rep[96]   4.11    0.03   1.67   0.79   3.01   4.14   5.24   7.33   4000    1.0\n",
       "y_rep[97]   4.27    0.03   1.66   1.05   3.12   4.27   5.35   7.67   3739    1.0\n",
       "y_rep[98]   4.21    0.03   1.65    1.0   3.09   4.18   5.33   7.42   4000    1.0\n",
       "y_rep[99]   4.48    0.03   1.66   1.25   3.34   4.47   5.59   7.71   3863    1.0\n",
       "lp__      -106.4    0.05   1.73 -110.7 -107.3 -106.0 -105.1 -104.1   1181   1.01\n",
       "\n",
       "Samples were drawn using NUTS at Thu Aug 31 00:50:02 2017.\n",
       "For each parameter, n_eff is a crude measure of effective sample size,\n",
       "and Rhat is the potential scale reduction factor on split chains (at \n",
       "convergence, Rhat=1)."
      ]
     },
     "execution_count": 24,
     "metadata": {},
     "output_type": "execute_result"
    }
   ],
   "source": [
    "model.sampling(data=data)"
   ]
  },
  {
   "cell_type": "markdown",
   "metadata": {},
   "source": [
    "### 2. %%stan -f [stan_file_name] --save_only\n",
    "\n",
    "Saves the cell code to a file specified in [stan_file_name].  Skips compile step"
   ]
  },
  {
   "cell_type": "code",
   "execution_count": 25,
   "metadata": {},
   "outputs": [
    {
     "name": "stdout",
     "output_type": "stream",
     "text": [
      "File test1.stan saved..Skipping Compile\n"
     ]
    }
   ],
   "source": [
    "%%stan -f test1.stan --save_only\n",
    "data {\n",
    "  \n",
    "  int<lower=1> N;\n",
    "  int<lower=1> K;\n",
    "  \n",
    "  matrix[N,K] X;\n",
    "  vector[N] y;\n",
    "}\n",
    "\n",
    "parameters{\n",
    "  real alpha;\n",
    "  ordered[K] beta;\n",
    "  real<lower=0> sigma;\n",
    "  \n",
    "}\n",
    "\n",
    "model {\n",
    "  \n",
    "  alpha ~ normal(0,10);\n",
    "  beta[1] ~ normal(.1,.1);\n",
    "  beta[2] ~ normal(.2,.1);\n",
    "  beta[3] ~ normal(.3,.1);\n",
    "  sigma ~ exponential(1);\n",
    "  for (n in 1:N) {\n",
    "    y[n] ~ normal(X[n]*beta + alpha, sigma);\n",
    "  } \n",
    "  \n",
    "}\n",
    "\n",
    "generated quantities {\n",
    "  vector[N] y_rep;\n",
    "  for (n in 1:N) {\n",
    "    y_rep[n] = normal_rng(X[n]*beta + alpha, sigma);\n",
    "  }\n",
    "}"
   ]
  },
  {
   "cell_type": "code",
   "execution_count": 26,
   "metadata": {},
   "outputs": [
    {
     "name": "stderr",
     "output_type": "stream",
     "text": [
      "INFO:pystan:COMPILING THE C++ CODE FOR MODEL anon_model_b64da7aba54424736fda036b359c5ae9 NOW.\n"
     ]
    }
   ],
   "source": [
    "model = pystan.StanModel(file='test1.stan')"
   ]
  },
  {
   "cell_type": "markdown",
   "metadata": {},
   "source": [
    "### 3. %%stan \n",
    "\n",
    "Saves the cell code to a code string. The code string can be accessed via _stan_vars['stan_code']"
   ]
  },
  {
   "cell_type": "code",
   "execution_count": 27,
   "metadata": {},
   "outputs": [
    {
     "name": "stdout",
     "output_type": "stream",
     "text": [
      "Using stanc compiler:  /home/aravind/Downloads/cmdstan-2.16.0/bin/stanc\n",
      "/home/aravind/Downloads/cmdstan-2.16.0/bin/stanc --o=/tmp/anon_2c3a5bf5-ccea-41d6-9352-67cbe3330b03_model.cpp /tmp/anon_2c3a5bf5-ccea-41d6-9352-67cbe3330b03.stan\n",
      "Model name=anon_2c3a5bf5_ccea_41d6_9352_67cbe3330b03_model\n",
      "Input file=/tmp/anon_2c3a5bf5-ccea-41d6-9352-67cbe3330b03.stan\n",
      "Output file=/tmp/anon_2c3a5bf5-ccea-41d6-9352-67cbe3330b03_model.cpp\n"
     ]
    }
   ],
   "source": [
    "%%stan\n",
    "data {\n",
    "  \n",
    "  int<lower=1> N;\n",
    "  int<lower=1> K;\n",
    "  \n",
    "  matrix[N,K] X;\n",
    "  vector[N] y;\n",
    "}\n",
    "\n",
    "parameters{\n",
    "  real alpha;\n",
    "  ordered[K] beta;\n",
    "  real<lower=0> sigma;\n",
    "  \n",
    "}\n",
    "\n",
    "model {\n",
    "  \n",
    "  alpha ~ normal(0,10);\n",
    "  beta[1] ~ normal(.1,.1);\n",
    "  beta[2] ~ normal(.2,.1);\n",
    "  beta[3] ~ normal(.3,.1);\n",
    "  sigma ~ exponential(1);\n",
    "  for (n in 1:N) {\n",
    "    y[n] ~ normal(X[n]*beta + alpha, sigma);\n",
    "  } \n",
    "  \n",
    "}\n",
    "\n",
    "generated quantities {\n",
    "  vector[N] y_rep;\n",
    "  for (n in 1:N) {\n",
    "    y_rep[n] = normal_rng(X[n]*beta + alpha, sigma);\n",
    "  }\n",
    "}"
   ]
  },
  {
   "cell_type": "code",
   "execution_count": 28,
   "metadata": {},
   "outputs": [
    {
     "data": {
      "text/plain": [
       "{'model_name': None,\n",
       " 'stan_code': 'data {\\n  \\n  int<lower=1> N;\\n  int<lower=1> K;\\n  \\n  matrix[N,K] X;\\n  vector[N] y;\\n}\\n\\nparameters{\\n  real alpha;\\n  ordered[K] beta;\\n  real<lower=0> sigma;\\n  \\n}\\n\\nmodel {\\n  \\n  alpha ~ normal(0,10);\\n  beta[1] ~ normal(.1,.1);\\n  beta[2] ~ normal(.2,.1);\\n  beta[3] ~ normal(.3,.1);\\n  sigma ~ exponential(1);\\n  for (n in 1:N) {\\n    y[n] ~ normal(X[n]*beta + alpha, sigma);\\n  } \\n  \\n}\\n\\ngenerated quantities {\\n  vector[N] y_rep;\\n  for (n in 1:N) {\\n    y_rep[n] = normal_rng(X[n]*beta + alpha, sigma);\\n  }\\n}',\n",
       " 'stan_file': None}"
      ]
     },
     "execution_count": 28,
     "metadata": {},
     "output_type": "execute_result"
    }
   ],
   "source": [
    "_stan_vars"
   ]
  },
  {
   "cell_type": "code",
   "execution_count": 29,
   "metadata": {},
   "outputs": [
    {
     "name": "stderr",
     "output_type": "stream",
     "text": [
      "INFO:pystan:COMPILING THE C++ CODE FOR MODEL anon_model_b64da7aba54424736fda036b359c5ae9 NOW.\n"
     ]
    }
   ],
   "source": [
    "model = pystan.StanModel(model_code=_stan_vars['stan_code'])"
   ]
  },
  {
   "cell_type": "code",
   "execution_count": 30,
   "metadata": {},
   "outputs": [
    {
     "data": {
      "text/plain": [
       "Inference for Stan model: anon_model_b64da7aba54424736fda036b359c5ae9.\n",
       "4 chains, each with iter=2000; warmup=1000; thin=1; \n",
       "post-warmup draws per chain=1000, total post-warmup draws=4000.\n",
       "\n",
       "            mean se_mean     sd   2.5%    25%    50%    75%  97.5%  n_eff   Rhat\n",
       "alpha       4.13  3.1e-3   0.16    3.8   4.02   4.14   4.24   4.45   2839    1.0\n",
       "beta[0]     0.07  1.6e-3   0.07  -0.08   0.02   0.07   0.12    0.2   1982    1.0\n",
       "beta[1]     0.18  1.0e-3   0.07   0.06   0.14   0.18   0.23   0.31   4000    1.0\n",
       "beta[2]     0.32  1.2e-3   0.07   0.18   0.27   0.31   0.37   0.47   4000    1.0\n",
       "sigma       1.64  2.2e-3   0.12   1.42   1.56   1.63   1.72   1.89   2830    1.0\n",
       "y_rep[0]    4.13    0.03   1.67   0.89   3.01   4.14   5.25   7.39   3927    1.0\n",
       "y_rep[1]    3.85    0.03   1.67   0.61   2.71   3.85   4.95   7.18   4000    1.0\n",
       "y_rep[2]    4.45    0.03   1.65   1.36   3.28   4.49   5.57   7.64   4000    1.0\n",
       "y_rep[3]    4.54    0.03   1.63    1.3   3.42   4.57    5.6   7.72   3597    1.0\n",
       "y_rep[4]    5.06    0.03   1.67    1.8   3.96   5.07   6.18   8.24   4000    1.0\n",
       "y_rep[5]     5.2    0.03   1.66    1.8   4.08   5.19   6.34    8.4   4000    1.0\n",
       "y_rep[6]    5.11    0.03    1.7   1.79   3.94    5.1   6.24   8.47   4000    1.0\n",
       "y_rep[7]    4.21    0.03   1.66   0.92   3.08   4.23   5.28   7.44   4000    1.0\n",
       "y_rep[8]    4.37    0.03   1.66   1.06   3.26   4.39    5.5   7.55   3923    1.0\n",
       "y_rep[9]    3.99    0.03   1.67    0.7    2.9   3.99   5.12   7.33   3763    1.0\n",
       "y_rep[10]   4.61    0.03   1.68   1.29   3.48   4.62   5.73   7.88   4000    1.0\n",
       "y_rep[11]   4.05    0.03   1.65    0.8   2.91   4.05   5.13   7.35   3846    1.0\n",
       "y_rep[12]   4.31    0.03   1.66    1.0   3.18   4.28   5.44   7.63   3584    1.0\n",
       "y_rep[13]   3.96    0.03   1.65   0.78   2.85   3.99   5.06   7.14   3869    1.0\n",
       "y_rep[14]   3.66    0.03   1.64   0.49   2.54   3.64   4.75   6.96   4000    1.0\n",
       "y_rep[15]   3.89    0.03   1.67   0.68   2.77   3.87   5.02   7.14   3951    1.0\n",
       "y_rep[16]   4.57    0.03   1.64   1.42   3.46   4.59    5.7   7.76   4000    1.0\n",
       "y_rep[17]   3.86    0.03   1.65   0.55   2.74   3.85   4.98   7.16   3925    1.0\n",
       "y_rep[18]   4.66    0.03   1.67   1.37   3.58   4.65    5.8   7.97   4000    1.0\n",
       "y_rep[19]   3.81    0.03   1.68   0.49   2.71   3.82   4.96    7.1   3996    1.0\n",
       "y_rep[20]   3.53    0.03   1.67   0.39   2.39   3.56   4.68   6.74   4000    1.0\n",
       "y_rep[21]    3.6    0.03   1.67   0.34   2.49   3.58   4.73    7.0   4000    1.0\n",
       "y_rep[22]   4.51    0.03   1.65   1.36    3.4   4.45   5.62   7.85   4000    1.0\n",
       "y_rep[23]   3.64    0.03   1.67   0.37   2.51   3.66   4.72   6.99   4000    1.0\n",
       "y_rep[24]   4.11    0.03   1.67    0.8    3.0    4.1   5.17   7.42   4000    1.0\n",
       "y_rep[25]   4.96    0.03   1.68   1.68   3.83   4.97   6.06   8.32   3748    1.0\n",
       "y_rep[26]   4.66    0.03   1.67    1.4   3.54   4.69   5.75   8.01   3876    1.0\n",
       "y_rep[27]   3.95    0.03   1.66   0.72   2.82   3.95   5.06   7.18   4000    1.0\n",
       "y_rep[28]   4.28    0.03   1.65   1.08   3.19   4.27   5.38   7.52   4000    1.0\n",
       "y_rep[29]   4.02    0.03   1.65   0.82   2.88   4.04   5.09   7.24   3985    1.0\n",
       "y_rep[30]   4.17    0.03   1.65   0.92   3.06   4.18   5.27   7.39   3947    1.0\n",
       "y_rep[31]   4.02    0.03   1.66   0.68   2.92   4.02   5.12   7.31   4000    1.0\n",
       "y_rep[32]   3.35    0.03   1.63   0.13   2.27   3.38   4.46   6.55   4000    1.0\n",
       "y_rep[33]   4.19    0.03   1.66    0.9   3.12   4.22   5.28   7.46   3934    1.0\n",
       "y_rep[34]    3.9    0.03   1.63   0.65   2.81    3.9   4.97   7.21   4000    1.0\n",
       "y_rep[35]   4.55    0.03   1.68   1.34   3.44   4.55   5.67   7.85   4000    1.0\n",
       "y_rep[36]   4.77    0.03   1.65    1.6   3.66   4.78   5.91   7.99   3682    1.0\n",
       "y_rep[37]   3.63    0.03    1.7   0.26    2.5   3.65   4.77    6.9   4000    1.0\n",
       "y_rep[38]   4.28    0.03   1.64   1.13   3.16   4.26   5.37    7.6   4000    1.0\n",
       "y_rep[39]   4.03    0.03   1.64   0.84   2.93   3.99   5.15   7.22   3691    1.0\n",
       "y_rep[40]   3.74    0.03   1.68   0.42   2.65   3.75   4.86   7.04   4000    1.0\n",
       "y_rep[41]   4.61    0.03   1.68   1.29   3.49    4.6   5.75   7.99   4000    1.0\n",
       "y_rep[42]   3.93    0.03   1.68   0.59   2.84   3.94   5.06   7.18   3631    1.0\n",
       "y_rep[43]   3.95    0.03   1.66    0.7   2.82   3.95   5.06   7.17   4000    1.0\n",
       "y_rep[44]   3.73    0.03   1.64   0.47   2.64   3.73   4.85   6.96   4000    1.0\n",
       "y_rep[45]   4.08    0.03   1.66   0.75   2.98   4.07   5.15   7.35   3999    1.0\n",
       "y_rep[46]   4.64    0.03   1.69    1.3    3.5   4.64   5.75    8.0   3857    1.0\n",
       "y_rep[47]   3.95    0.03   1.65   0.71   2.85   3.95   5.07   7.14   3688    1.0\n",
       "y_rep[48]   4.05    0.03   1.68   0.72   2.92   4.05   5.17   7.34   4000    1.0\n",
       "y_rep[49]   3.86    0.03   1.66   0.73   2.68   3.82   4.98   7.18   4000    1.0\n",
       "y_rep[50]   3.08    0.03   1.68  -0.17   1.94   3.07   4.24   6.35   3897    1.0\n",
       "y_rep[51]   4.14    0.03   1.64   0.82   3.04   4.14   5.24   7.36   3562    1.0\n",
       "y_rep[52]   4.19    0.03   1.66   0.89   3.09   4.19    5.3    7.4   3741    1.0\n",
       "y_rep[53]   4.36    0.03   1.64   1.14   3.23   4.35   5.47   7.56   4000    1.0\n",
       "y_rep[54]   3.69    0.03   1.65   0.54    2.6    3.7   4.78   6.89   3677    1.0\n",
       "y_rep[55]   3.89    0.03   1.66   0.72   2.79   3.89   4.99   7.18   3834    1.0\n",
       "y_rep[56]   5.02    0.03   1.69   1.71    3.9   5.01   6.16   8.36   3905    1.0\n",
       "y_rep[57]   3.85    0.03   1.65   0.64   2.74   3.82   4.96   7.23   3833    1.0\n",
       "y_rep[58]   3.86    0.03   1.63   0.59   2.79   3.84   4.97   6.98   4000    1.0\n",
       "y_rep[59]   4.25    0.03   1.63   0.98   3.13   4.26   5.35   7.45   4000    1.0\n",
       "y_rep[60]   3.82    0.03   1.64   0.45   2.74   3.83   4.93   7.04   3982    1.0\n",
       "y_rep[61]   4.67    0.03   1.62   1.45   3.58   4.68   5.75   7.83   3961    1.0\n",
       "y_rep[62]   4.16    0.03   1.65   0.88   3.04   4.13   5.27    7.4   4000    1.0\n",
       "y_rep[63]   4.62    0.03   1.66   1.38    3.5   4.62   5.75   7.83   4000    1.0\n",
       "y_rep[64]   3.64    0.03   1.64   0.46   2.52   3.67   4.76   6.81   3950    1.0\n",
       "y_rep[65]   4.54    0.03   1.66   1.33   3.44   4.51   5.66   7.84   3896    1.0\n",
       "y_rep[66]   5.08    0.03   1.65   1.81    3.9   5.11    6.2   8.43   3693    1.0\n",
       "y_rep[67]   4.24    0.03   1.63   0.98   3.13   4.23   5.31   7.47   3791    1.0\n",
       "y_rep[68]   3.75    0.03   1.66   0.56   2.61   3.72   4.84    7.1   4000    1.0\n",
       "y_rep[69]   4.16    0.03   1.67   0.84   3.03   4.17   5.28   7.35   4000    1.0\n",
       "y_rep[70]   4.67    0.03   1.66    1.4   3.57    4.7   5.77   7.92   3856    1.0\n",
       "y_rep[71]   3.99    0.03   1.66   0.68    2.9   3.99   5.13   7.19   4000    1.0\n",
       "y_rep[72]   3.37    0.03   1.65    0.2   2.26   3.38   4.47    6.6   4000    1.0\n",
       "y_rep[73]    4.9    0.03   1.64   1.74   3.78   4.88   6.02   8.16   4000    1.0\n",
       "y_rep[74]   3.88    0.03   1.65   0.67   2.75   3.85   4.97   7.18   4000    1.0\n",
       "y_rep[75]   3.58    0.03   1.69   0.27   2.44   3.57    4.7   6.88   3784    1.0\n",
       "y_rep[76]    4.0    0.03   1.67   0.81   2.84   4.02   5.09   7.25   4000    1.0\n",
       "y_rep[77]   4.24    0.03   1.67    1.0   3.16   4.22   5.34   7.57   3973    1.0\n",
       "y_rep[78]   3.95    0.03   1.68   0.62   2.81   3.98   5.02   7.34   4000    1.0\n",
       "y_rep[79]   4.71    0.03   1.68    1.4   3.61   4.76   5.83   7.98   4000    1.0\n",
       "y_rep[80]   4.35    0.03   1.64   1.06   3.25   4.38   5.47   7.58   4000    1.0\n",
       "y_rep[81]   5.01    0.03   1.65   1.74   3.89   5.03   6.16   8.23   3643    1.0\n",
       "y_rep[82]   3.37    0.03   1.62   0.18   2.25   3.36   4.49   6.59   3853    1.0\n",
       "y_rep[83]   4.76    0.03    1.7   1.38   3.64   4.74   5.93   8.13   3935    1.0\n",
       "y_rep[84]   3.81    0.03   1.64   0.57   2.69   3.84   4.94   7.03   4000    1.0\n",
       "y_rep[85]   4.44    0.03   1.67   1.26   3.32   4.43   5.51   7.84   3722    1.0\n",
       "y_rep[86]    4.0    0.03   1.65   0.71   2.87   4.03   5.15   7.07   4000    1.0\n",
       "y_rep[87]   3.53    0.03   1.69   0.12   2.44   3.55   4.66   6.82   4000    1.0\n",
       "y_rep[88]   4.43    0.03   1.67   1.17   3.34   4.41   5.54   7.74   4000    1.0\n",
       "y_rep[89]   4.41    0.03   1.65    1.1   3.31   4.43   5.52   7.57   3828    1.0\n",
       "y_rep[90]   3.34    0.03   1.64   0.06   2.23   3.35   4.45   6.56   3596    1.0\n",
       "y_rep[91]   4.48    0.03   1.65   1.24   3.39   4.46   5.57   7.78   3924    1.0\n",
       "y_rep[92]   4.78    0.03   1.65   1.48    3.7   4.82   5.84   8.03   4000    1.0\n",
       "y_rep[93]   4.41    0.03   1.66   1.09    3.3   4.42   5.52   7.65   4000    1.0\n",
       "y_rep[94]   4.18    0.03   1.64   0.94   3.06    4.2    5.3   7.38   4000    1.0\n",
       "y_rep[95]    4.3    0.03   1.66   1.07   3.19   4.32   5.43   7.43   3491    1.0\n",
       "y_rep[96]   4.13    0.03   1.67    0.9   3.01   4.12   5.22   7.47   4000    1.0\n",
       "y_rep[97]    4.3    0.03   1.66   1.02   3.19   4.31   5.42   7.53   3801    1.0\n",
       "y_rep[98]   4.15    0.03   1.68   0.93   3.04   4.11   5.26   7.62   3630    1.0\n",
       "y_rep[99]   4.52    0.03   1.68   1.31   3.37   4.53   5.69   7.83   3812    1.0\n",
       "lp__      -106.4    0.05   1.72 -110.7 -107.4 -106.1 -105.1 -104.1   1112    1.0\n",
       "\n",
       "Samples were drawn using NUTS at Thu Aug 31 00:53:02 2017.\n",
       "For each parameter, n_eff is a crude measure of effective sample size,\n",
       "and Rhat is the potential scale reduction factor on split chains (at \n",
       "convergence, Rhat=1)."
      ]
     },
     "execution_count": 30,
     "metadata": {},
     "output_type": "execute_result"
    }
   ],
   "source": [
    "model.sampling(data=data)"
   ]
  },
  {
   "cell_type": "markdown",
   "metadata": {},
   "source": [
    "### 4. %%stan -f [stan_file_name] -o [cpp_file_name]\n",
    "Saves the cell code to a file specified in [stan_file_name] and outputs the compiled cpp file to the file name specified by [cpp_file_name]\n"
   ]
  },
  {
   "cell_type": "markdown",
   "metadata": {},
   "source": [
    "### 5. %% stan -f  [stan_file_name] --allow_undefined\n",
    "passes the --allow_undefined argument to stanc compiler"
   ]
  },
  {
   "cell_type": "markdown",
   "metadata": {},
   "source": [
    "### 6.%%stan -f  [stan_file_name] --stanc [stanc_compiler_path]\n",
    "Saves the cell code to a file specified in [stan_file_name] and compiles using the stan compiler specified in [stanc_compiler]. By default, it uses stanc compiler in your path. If your path does not have the stanc compiler, use this option (e.g %%stan binom.stan --stanc \"~/cmdstan-2.16.0/bin/stanc\")"
   ]
  },
  {
   "cell_type": "code",
   "execution_count": 36,
   "metadata": {
    "collapsed": true
   },
   "outputs": [],
   "source": [
    "assert True"
   ]
  },
  {
   "cell_type": "code",
   "execution_count": null,
   "metadata": {
    "collapsed": true
   },
   "outputs": [],
   "source": []
  }
 ],
 "metadata": {
  "kernelspec": {
   "display_name": "Python 3",
   "language": "python",
   "name": "python3"
  },
  "language_info": {
   "codemirror_mode": {
    "name": "ipython",
    "version": 3
   },
   "file_extension": ".py",
   "mimetype": "text/x-python",
   "name": "python",
   "nbconvert_exporter": "python",
   "pygments_lexer": "ipython3",
   "version": "3.6.1"
  }
 },
 "nbformat": 4,
 "nbformat_minor": 2
}
